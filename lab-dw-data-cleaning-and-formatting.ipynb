{
  "cells": [
    {
      "cell_type": "markdown",
      "id": "25d7736c-ba17-4aff-b6bb-66eba20fbf4e",
      "metadata": {
        "id": "25d7736c-ba17-4aff-b6bb-66eba20fbf4e"
      },
      "source": [
        "# Lab | Data Cleaning and Formatting"
      ]
    },
    {
      "cell_type": "markdown",
      "id": "d1973e9e-8be6-4039-b70e-d73ee0d94c99",
      "metadata": {
        "id": "d1973e9e-8be6-4039-b70e-d73ee0d94c99"
      },
      "source": [
        "In this lab, we will be working with the customer data from an insurance company, which can be found in the CSV file located at the following link: https://raw.githubusercontent.com/data-bootcamp-v4/data/main/file1.csv\n"
      ]
    },
    {
      "cell_type": "markdown",
      "id": "31b8a9e7-7db9-4604-991b-ef6771603e57",
      "metadata": {
        "id": "31b8a9e7-7db9-4604-991b-ef6771603e57"
      },
      "source": [
        "# Challenge 1: Data Cleaning and Formatting"
      ]
    },
    {
      "cell_type": "markdown",
      "id": "81553f19-9f2c-484b-8940-520aff884022",
      "metadata": {
        "id": "81553f19-9f2c-484b-8940-520aff884022"
      },
      "source": [
        "## Exercise 1: Cleaning Column Names"
      ]
    },
    {
      "cell_type": "markdown",
      "id": "34a929f4-1be4-4fa8-adda-42ffd920be90",
      "metadata": {
        "id": "34a929f4-1be4-4fa8-adda-42ffd920be90"
      },
      "source": [
        "To ensure consistency and ease of use, standardize the column names of the dataframe. Start by taking a first look at the dataframe and identifying any column names that need to be modified. Use appropriate naming conventions and make sure that column names are descriptive and informative.\n",
        "\n",
        "*Hint*:\n",
        "- *Column names should be in lower case*\n",
        "- *White spaces in column names should be replaced by `_`*\n",
        "- *`st` could be replaced for `state`*"
      ]
    },
    {
      "cell_type": "code",
      "execution_count": 1,
      "id": "5810735c-8056-4442-bbf2-dda38d3e284a",
      "metadata": {
        "id": "5810735c-8056-4442-bbf2-dda38d3e284a"
      },
      "outputs": [
        {
          "name": "stdout",
          "output_type": "stream",
          "text": [
            "Index(['customer', 'state', 'gender', 'education', 'customer_lifetime_value',\n",
            "       'income', 'monthly_premium_auto', 'number_of_open_complaints',\n",
            "       'policy_type', 'vehicle_class', 'total_claim_amount'],\n",
            "      dtype='object')\n"
          ]
        }
      ],
      "source": [
        "import pandas as pd\n",
        "\n",
        "# Load dataset:\n",
        "url = 'https://raw.githubusercontent.com/data-bootcamp-v4/data/main/file1.csv'\n",
        "df = pd.read_csv(url)\n",
        "\n",
        "# Clean and standardize column names:\n",
        "df.columns = df.columns.str.lower().str.replace(' ', '_')\n",
        "df.rename(columns={'st': 'state'}, inplace=True)\n",
        "\n",
        "# Preview:\n",
        "print(df.columns)"
      ]
    },
    {
      "cell_type": "markdown",
      "id": "9cb501ec-36ff-4589-b872-6252bb150316",
      "metadata": {
        "id": "9cb501ec-36ff-4589-b872-6252bb150316"
      },
      "source": [
        "## Exercise 2: Cleaning invalid Values"
      ]
    },
    {
      "cell_type": "markdown",
      "id": "771fdcf3-8e20-4b06-9c24-3a93ba2b0909",
      "metadata": {
        "id": "771fdcf3-8e20-4b06-9c24-3a93ba2b0909"
      },
      "source": [
        "The dataset contains columns with inconsistent and incorrect values that could affect the accuracy of our analysis. Therefore, we need to clean these columns to ensure that they only contain valid data.\n",
        "\n",
        "Note that this exercise will focus only on cleaning inconsistent values and will not involve handling null values (NaN or None).\n",
        "\n",
        "*Hint*:\n",
        "- *Gender column contains various inconsistent values such as \"F\", \"M\", \"Femal\", \"Male\", \"female\", which need to be standardized, for example, to \"M\" and \"F\".*\n",
        "- *State abbreviations be can replaced with its full name, for example \"AZ\": \"Arizona\", \"Cali\": \"California\", \"WA\": \"Washington\"*\n",
        "- *In education, \"Bachelors\" could be replaced by \"Bachelor\"*\n",
        "- *In Customer Lifetime Value, delete the `%` character*\n",
        "- *In vehicle class, \"Sports Car\", \"Luxury SUV\" and \"Luxury Car\" could be replaced by \"Luxury\"*"
      ]
    },
    {
      "cell_type": "code",
      "execution_count": 2,
      "id": "3f8ee5cb-50ab-48af-8a9f-9a389804033c",
      "metadata": {
        "id": "3f8ee5cb-50ab-48af-8a9f-9a389804033c"
      },
      "outputs": [
        {
          "name": "stdout",
          "output_type": "stream",
          "text": [
            "  gender       state             education  customer_lifetime_value  \\\n",
            "0    NaN  Washington                Master                      NaN   \n",
            "1      F     Arizona              Bachelor                697953.59   \n",
            "2      F      Nevada              Bachelor               1288743.17   \n",
            "3      M  California              Bachelor                764586.18   \n",
            "4      M  Washington  High School or Below                536307.65   \n",
            "\n",
            "   vehicle_class  \n",
            "0  Four-Door Car  \n",
            "1  Four-Door Car  \n",
            "2   Two-Door Car  \n",
            "3            SUV  \n",
            "4  Four-Door Car  \n"
          ]
        }
      ],
      "source": [
        "# Standardize Gender values:\n",
        "df['gender'] = df['gender'].replace(['Femal', 'female'], 'F').replace(['Male'], 'M')\n",
        "\n",
        "# Replace State abbreviations with full names:\n",
        "state_map = {'AZ': 'Arizona', 'Cali': 'California', 'WA': 'Washington'}\n",
        "df['state'] = df['state'].replace(state_map)\n",
        "\n",
        "# Replace inconsistent Education values:\n",
        "df['education'] = df['education'].replace(['Bachelors'], 'Bachelor')\n",
        "\n",
        "# Remove the % character from Customer Lifetime Value and convert to float:\n",
        "df['customer_lifetime_value'] = df['customer_lifetime_value'].str.replace('%', '').astype(float)\n",
        "\n",
        "# Standardize Vehicle Class values:\n",
        "vehicle_class_map = {'Sports Car': 'Luxury', 'Luxury SUV': 'Luxury', 'Luxury Car': 'Luxury'}\n",
        "df['vehicle_class'] = df['vehicle_class'].replace(vehicle_class_map)\n",
        "\n",
        "# Display changes:\n",
        "print(df[['gender', 'state', 'education', 'customer_lifetime_value', 'vehicle_class']].head())"
      ]
    },
    {
      "cell_type": "markdown",
      "id": "85ff78ce-0174-4890-9db3-8048b7d7d2d0",
      "metadata": {
        "id": "85ff78ce-0174-4890-9db3-8048b7d7d2d0"
      },
      "source": [
        "## Exercise 3: Formatting data types"
      ]
    },
    {
      "cell_type": "markdown",
      "id": "b91c2cf8-79a2-4baf-9f65-ff2fb22270bd",
      "metadata": {
        "id": "b91c2cf8-79a2-4baf-9f65-ff2fb22270bd"
      },
      "source": [
        "The data types of many columns in the dataset appear to be incorrect. This could impact the accuracy of our analysis. To ensure accurate analysis, we need to correct the data types of these columns. Please update the data types of the columns as appropriate."
      ]
    },
    {
      "cell_type": "markdown",
      "id": "43e5d853-ff9e-43b2-9d92-aef2f78764f3",
      "metadata": {
        "id": "43e5d853-ff9e-43b2-9d92-aef2f78764f3"
      },
      "source": [
        "It is important to note that this exercise does not involve handling null values (NaN or None)."
      ]
    },
    {
      "cell_type": "markdown",
      "id": "329ca691-9196-4419-8969-3596746237a1",
      "metadata": {
        "id": "329ca691-9196-4419-8969-3596746237a1"
      },
      "source": [
        "*Hint*:\n",
        "- *Customer lifetime value should be numeric*\n",
        "- *Number of open complaints has an incorrect format. Look at the different values it takes with `unique()` and take the middle value. As an example, 1/5/00 should be 5. Number of open complaints is a string - remember you can use `split()` to deal with it and take the number you need. Finally, since it should be numeric, cast the column to be in its proper type.*"
      ]
    },
    {
      "cell_type": "code",
      "execution_count": 3,
      "id": "eb8f5991-73e9-405f-bf1c-6b7c589379a9",
      "metadata": {
        "id": "eb8f5991-73e9-405f-bf1c-6b7c589379a9"
      },
      "outputs": [
        {
          "name": "stdout",
          "output_type": "stream",
          "text": [
            "customer_lifetime_value      float64\n",
            "number_of_open_complaints    float64\n",
            "dtype: object\n"
          ]
        }
      ],
      "source": [
        "# Convert 'customer_lifetime_value' to float:\n",
        "df['customer_lifetime_value'] = df['customer_lifetime_value'].astype(float)\n",
        "\n",
        "# Process 'number_of_open_complaints' to numeric format:\n",
        "# Split the string by '/', take the second element and convert to integer:\n",
        "df['number_of_open_complaints'] = df['number_of_open_complaints'].apply(lambda x: int(x.split('/')[1]) if pd.notnull(x) else x)\n",
        "\n",
        "# Display changes:\n",
        "print(df[['customer_lifetime_value', 'number_of_open_complaints']].dtypes)"
      ]
    },
    {
      "cell_type": "markdown",
      "id": "14c52e28-2d0c-4dd2-8bd5-3476e34fadc1",
      "metadata": {
        "id": "14c52e28-2d0c-4dd2-8bd5-3476e34fadc1"
      },
      "source": [
        "## Exercise 4: Dealing with Null values"
      ]
    },
    {
      "cell_type": "markdown",
      "id": "34b9a20f-7d32-4417-975e-1b4dfb0e16cd",
      "metadata": {
        "id": "34b9a20f-7d32-4417-975e-1b4dfb0e16cd"
      },
      "source": [
        "Identify any columns with null or missing values. Identify how many null values each column has. You can use the `isnull()` function in pandas to find columns with null values.\n",
        "\n",
        "Decide on a strategy for handling the null values. There are several options, including:\n",
        "\n",
        "- Drop the rows or columns with null values\n",
        "- Fill the null values with a specific value (such as the column mean or median for numerical variables, and mode for categorical variables)\n",
        "- Fill the null values with the previous or next value in the column\n",
        "- Fill the null values based on a more complex algorithm or model (note: we haven't covered this yet)\n",
        "\n",
        "Implement your chosen strategy to handle the null values. You can use the `fillna()` function in pandas to fill null values or `dropna()` function to drop null values.\n",
        "\n",
        "Verify that your strategy has successfully handled the null values. You can use the `isnull()` function again to check if there are still null values in the dataset.\n",
        "\n",
        "Remember to document your process and explain your reasoning for choosing a particular strategy for handling null values.\n",
        "\n",
        "After formatting data types, as a last step, convert all the numeric variables to integers."
      ]
    },
    {
      "cell_type": "code",
      "execution_count": 4,
      "id": "f184fc35-7831-4836-a0a5-e7f99e01b40e",
      "metadata": {
        "id": "f184fc35-7831-4836-a0a5-e7f99e01b40e"
      },
      "outputs": [
        {
          "name": "stdout",
          "output_type": "stream",
          "text": [
            "Null values in each column before handling:\n",
            " customer                     2937\n",
            "state                        2937\n",
            "gender                       3054\n",
            "education                    2937\n",
            "customer_lifetime_value      2940\n",
            "income                       2937\n",
            "monthly_premium_auto         2937\n",
            "number_of_open_complaints    2937\n",
            "policy_type                  2937\n",
            "vehicle_class                2937\n",
            "total_claim_amount           2937\n",
            "dtype: int64\n",
            "\n",
            "Null values in each column after handling:\n",
            " customer                     0\n",
            "state                        0\n",
            "gender                       0\n",
            "education                    0\n",
            "customer_lifetime_value      0\n",
            "income                       0\n",
            "monthly_premium_auto         0\n",
            "number_of_open_complaints    0\n",
            "policy_type                  0\n",
            "vehicle_class                0\n",
            "total_claim_amount           0\n",
            "dtype: int64\n",
            "\n",
            "Data types after conversion:\n",
            " customer_lifetime_value      int64\n",
            "income                       int64\n",
            "monthly_premium_auto         int64\n",
            "number_of_open_complaints    int64\n",
            "total_claim_amount           int64\n",
            "dtype: object\n"
          ]
        }
      ],
      "source": [
        "# Identifying null values and deciding on handling strategy:\n",
        "null_counts = df.isnull().sum()\n",
        "print(\"Null values in each column before handling:\\n\", null_counts[null_counts > 0])\n",
        "\n",
        "# Handling numerical columns by filling null values with the median:\n",
        "numerical_columns = df.select_dtypes(include=['number']).columns\n",
        "df[numerical_columns] = df[numerical_columns].apply(lambda x: x.fillna(x.median()))\n",
        "\n",
        "# Handling categorical columns by filling null values with the mode:\n",
        "categorical_columns = df.select_dtypes(include=['object']).columns\n",
        "for column in categorical_columns:\n",
        "    mode_value = df[column].mode()[0]\n",
        "    df[column] = df[column].fillna(mode_value)\n",
        "\n",
        "# Verify the handling of null values\n",
        "print(\"\\nNull values in each column after handling:\\n\", df.isnull().sum())\n",
        "\n",
        "# Converting all numerical variables to integers, provided it makes sense given the data:\n",
        "df[numerical_columns] = df[numerical_columns].astype(int)\n",
        "\n",
        "# Display changes:\n",
        "print(\"\\nData types after conversion:\\n\", df[numerical_columns].dtypes)"
      ]
    },
    {
      "cell_type": "markdown",
      "id": "98416351-e999-4156-9834-9b00a311adfa",
      "metadata": {
        "id": "98416351-e999-4156-9834-9b00a311adfa"
      },
      "source": [
        "## Exercise 5: Dealing with duplicates"
      ]
    },
    {
      "cell_type": "markdown",
      "id": "ea0816a7-a18e-4d4c-b667-a8452a800bd1",
      "metadata": {
        "id": "ea0816a7-a18e-4d4c-b667-a8452a800bd1"
      },
      "source": [
        "Use the `.duplicated()` method to identify any duplicate rows in the dataframe.\n",
        "\n",
        "Decide on a strategy for handling the duplicates. Options include:\n",
        "- Dropping all duplicate rows\n",
        "- Keeping only the first occurrence of each duplicated row\n",
        "- Keeping only the last occurrence of each duplicated row\n",
        "- Dropping duplicates based on a subset of columns\n",
        "- Dropping duplicates based on a specific column\n",
        "\n",
        "Implement your chosen strategy using the `drop_duplicates()` function.\n",
        "\n",
        "Verify that your strategy has successfully handled the duplicates by checking for duplicates again using `.duplicated()`.\n",
        "\n",
        "Remember to document your process and explain your reasoning for choosing a particular strategy for handling duplicates.\n",
        "\n",
        "Save the cleaned dataset to a new CSV file.\n",
        "\n",
        "*Hint*: *after dropping duplicates, reset the index to ensure consistency*."
      ]
    },
    {
      "cell_type": "code",
      "execution_count": 5,
      "id": "1929362c-47ed-47cb-baca-358b78d401a0",
      "metadata": {
        "id": "1929362c-47ed-47cb-baca-358b78d401a0"
      },
      "outputs": [
        {
          "name": "stdout",
          "output_type": "stream",
          "text": [
            "Total duplicated rows: 2936\n",
            "Duplicated rows after handling: 0\n",
            "Cleaned dataset saved as 'cleaned_dataset.csv'.\n"
          ]
        }
      ],
      "source": [
        "# Identify duplicates:\n",
        "print(\"Total duplicated rows:\", df.duplicated().sum())\n",
        "\n",
        "# Decide on a strategy and implement it: (dropping all duplicates, keeping the first occurrence)\n",
        "df = df.drop_duplicates().reset_index(drop=True)\n",
        "\n",
        "# Verify successful handling of duplicates:\n",
        "print(\"Duplicated rows after handling:\", df.duplicated().sum())\n",
        "\n",
        "# Save the cleaned dataset to a new CSV file:\n",
        "df.to_csv('cleaned_dataset.csv', index=False)\n",
        "\n",
        "print(\"Cleaned dataset saved as 'cleaned_dataset.csv'.\")"
      ]
    },
    {
      "cell_type": "markdown",
      "id": "60840701-4783-40e2-b4d8-55303f9100c9",
      "metadata": {
        "id": "60840701-4783-40e2-b4d8-55303f9100c9"
      },
      "source": [
        "# Bonus: Challenge 2: creating functions on a separate `py` file"
      ]
    },
    {
      "cell_type": "markdown",
      "id": "9d1adb3a-17cf-4899-8041-da21a4337fb4",
      "metadata": {
        "id": "9d1adb3a-17cf-4899-8041-da21a4337fb4"
      },
      "source": [
        "Put all the data cleaning and formatting steps into functions, and create a main function that performs all the cleaning and formatting.\n",
        "\n",
        "Write these functions in separate .py file(s). By putting these steps into functions, we can make the code more modular and easier to maintain."
      ]
    },
    {
      "cell_type": "markdown",
      "id": "0e170dc2-b62c-417a-8248-e63ed18a70c4",
      "metadata": {
        "id": "0e170dc2-b62c-417a-8248-e63ed18a70c4"
      },
      "source": [
        "*Hint: autoreload module is a utility module in Python that allows you to automatically reload modules in the current session when changes are made to the source code. This can be useful in situations where you are actively developing code and want to see the effects of changes you make without having to constantly restart the Python interpreter or Jupyter Notebook kernel.*"
      ]
    },
    {
      "cell_type": "code",
      "execution_count": 6,
      "id": "a52c6dfc-cd11-4d01-bda4-f719fa33e9a4",
      "metadata": {
        "id": "a52c6dfc-cd11-4d01-bda4-f719fa33e9a4"
      },
      "outputs": [
        {
          "name": "stdout",
          "output_type": "stream",
          "text": [
            "  customer       state gender             education customer_lifetime_value  \\\n",
            "0  RB50392  Washington      F                Master              251459.20%   \n",
            "1  QZ44356     Arizona      F              Bachelor              697953.59%   \n",
            "2  AI49188      Nevada      F              Bachelor             1288743.17%   \n",
            "3  WW63253  California      M              Bachelor              764586.18%   \n",
            "4  GA49547  Washington      M  High School or Below              536307.65%   \n",
            "\n",
            "   income  monthly_premium_auto number_of_open_complaints     policy_type  \\\n",
            "0       0                  1000                    1/0/00   Personal Auto   \n",
            "1       0                    94                    1/0/00   Personal Auto   \n",
            "2   48767                   108                    1/0/00   Personal Auto   \n",
            "3       0                   106                    1/0/00  Corporate Auto   \n",
            "4   36357                    68                    1/0/00   Personal Auto   \n",
            "\n",
            "   vehicle_class  total_claim_amount  \n",
            "0  Four-Door Car                   2  \n",
            "1  Four-Door Car                1131  \n",
            "2   Two-Door Car                 566  \n",
            "3            SUV                 529  \n",
            "4  Four-Door Car                  17  \n"
          ]
        }
      ],
      "source": [
        "from data_cleaning import main_cleaning_function\n",
        "\n",
        "# CSV URL:\n",
        "url = 'https://raw.githubusercontent.com/data-bootcamp-v4/data/main/file1.csv'\n",
        "cleaned_df = main_cleaning_function(url)\n",
        "print(cleaned_df.head())"
      ]
    },
    {
      "cell_type": "markdown",
      "id": "80f846bb-3f5e-4ca2-96c0-900728daca5a",
      "metadata": {
        "id": "80f846bb-3f5e-4ca2-96c0-900728daca5a",
        "tags": []
      },
      "source": [
        "# Bonus: Challenge 3: Analyzing Clean and Formated Data"
      ]
    },
    {
      "cell_type": "markdown",
      "id": "9021630e-cc90-446c-b5bd-264d6c864207",
      "metadata": {
        "id": "9021630e-cc90-446c-b5bd-264d6c864207"
      },
      "source": [
        "You have been tasked with analyzing the data to identify potential areas for improving customer retention and profitability. Your goal is to identify customers with a high policy claim amount and a low customer lifetime value.\n",
        "\n",
        "In the Pandas Lab, we only looked at high policy claim amounts because we couldn't look into low customer lifetime values. If we had tried to work with that column, we wouldn't have been able to because customer lifetime value wasn't clean and in its proper format. So after cleaning and formatting the data, let's get some more interesting insights!\n",
        "\n",
        "Instructions:\n",
        "\n",
        "- Review the statistics again for total claim amount and customer lifetime value to gain an understanding of the data.\n",
        "- To identify potential areas for improving customer retention and profitability, we want to focus on customers with a high policy claim amount and a low customer lifetime value. Consider customers with a high policy claim amount to be those in the top 25% of the total claim amount, and clients with a low customer lifetime value to be those in the bottom 25% of the customer lifetime value. Create a pandas DataFrame object that contains information about customers with a policy claim amount greater than the 75th percentile and a customer lifetime value in the bottom 25th percentile.\n",
        "- Use DataFrame methods to calculate summary statistics about the high policy claim amount and low customer lifetime value data. To do so, select both columns of the dataframe simultaneously and pass it to the `.describe()` method. This will give you descriptive statistics, such as mean, median, standard deviation, minimum and maximum values for both columns at the same time, allowing you to compare and analyze their characteristics."
      ]
    },
    {
      "cell_type": "code",
      "execution_count": 7,
      "id": "211e82b5-461a-4d6f-8a23-4deccb84173c",
      "metadata": {
        "id": "211e82b5-461a-4d6f-8a23-4deccb84173c"
      },
      "outputs": [
        {
          "name": "stdout",
          "output_type": "stream",
          "text": [
            "Initial statistics for Total Claim Amount and Customer Lifetime Value:\n",
            "       total_claim_amount  customer_lifetime_value\n",
            "count         1072.000000             1.072000e+03\n",
            "mean           404.481343             7.929229e+05\n",
            "std            292.909076             6.423980e+05\n",
            "min              0.000000             2.004350e+05\n",
            "25%            201.750000             4.054045e+05\n",
            "50%            354.000000             5.881740e+05\n",
            "75%            532.000000             8.937668e+05\n",
            "max           2893.000000             5.816655e+06\n",
            "\n",
            "Summary statistics for high policy claim amount and low customer lifetime value data:\n",
            "       total_claim_amount  customer_lifetime_value\n",
            "count           40.000000                40.000000\n",
            "mean           723.300000            341577.425000\n",
            "std            149.216449             56921.466178\n",
            "min            537.000000            228759.000000\n",
            "25%            632.750000            304220.500000\n",
            "50%            685.000000            365995.000000\n",
            "75%            799.000000            387364.000000\n",
            "max           1185.000000            402381.000000\n"
          ]
        }
      ],
      "source": [
        "# Review statistics for total claim amount and customer lifetime value:\n",
        "print(\"Initial statistics for Total Claim Amount and Customer Lifetime Value:\")\n",
        "print(df[['total_claim_amount', 'customer_lifetime_value']].describe())\n",
        "\n",
        "# Identify the 75th percentile for Total Claim Amount:\n",
        "total_claim_75th = df['total_claim_amount'].quantile(0.75)\n",
        "\n",
        "# Identify the 25th percentile for Customer Lifetime Value:\n",
        "customer_lifetime_25th = df['customer_lifetime_value'].quantile(0.25)\n",
        "\n",
        "# Filter customers who have high policy claim amount and low customer lifetime value:\n",
        "target_customers = df[(df['total_claim_amount'] > total_claim_75th) & \n",
        "                      (df['customer_lifetime_value'] < customer_lifetime_25th)]\n",
        "\n",
        "# Calculate summary statistics for the total claim amount and customer lifetime value of the targeted customers:\n",
        "summary_statistics = target_customers[['total_claim_amount', 'customer_lifetime_value']].describe()\n",
        "print(\"\\nSummary statistics for high policy claim amount and low customer lifetime value data:\")\n",
        "print(summary_statistics)\n"
      ]
    },
    {
      "cell_type": "code",
      "execution_count": null,
      "id": "b5788020",
      "metadata": {},
      "outputs": [],
      "source": []
    }
  ],
  "metadata": {
    "colab": {
      "provenance": []
    },
    "kernelspec": {
      "display_name": "Python 3 (ipykernel)",
      "language": "python",
      "name": "python3"
    },
    "language_info": {
      "codemirror_mode": {
        "name": "ipython",
        "version": 3
      },
      "file_extension": ".py",
      "mimetype": "text/x-python",
      "name": "python",
      "nbconvert_exporter": "python",
      "pygments_lexer": "ipython3",
      "version": "3.12.6"
    }
  },
  "nbformat": 4,
  "nbformat_minor": 5
}
